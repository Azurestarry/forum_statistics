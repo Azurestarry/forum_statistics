{
  "nbformat": 4,
  "nbformat_minor": 0,
  "metadata": {
    "colab": {
      "name": "forum_statistics.ipynb",
      "provenance": [],
      "collapsed_sections": [],
      "authorship_tag": "ABX9TyMBifXQ8ctGnjHOKG5bJ/9i"
    },
    "kernelspec": {
      "name": "python3",
      "display_name": "Python 3"
    }
  },
  "cells": [
    {
      "cell_type": "markdown",
      "metadata": {
        "id": "_5gsQyWbFvqh",
        "colab_type": "text"
      },
      "source": [
        "## **Forum statistics for nyuclass**\n",
        "Created on: Sept. 18th, 2020  \n",
        "Author: Hammond Liu  \n",
        "License: GPL v3.0\n",
        "\n"
      ]
    },
    {
      "cell_type": "code",
      "metadata": {
        "id": "4lKJHxU7E-BO",
        "colab_type": "code",
        "colab": {
          "base_uri": "https://localhost:8080/",
          "height": 54
        },
        "outputId": "d8743836-2c73-4e87-c885-39708aa3a12b"
      },
      "source": [
        "# Mount the drive to this program\n",
        "from google.colab import drive\n",
        "drive.mount('/content/gdrive')"
      ],
      "execution_count": 58,
      "outputs": [
        {
          "output_type": "stream",
          "text": [
            "Drive already mounted at /content/gdrive; to attempt to forcibly remount, call drive.mount(\"/content/gdrive\", force_remount=True).\n"
          ],
          "name": "stdout"
        }
      ]
    },
    {
      "cell_type": "code",
      "metadata": {
        "id": "S2ryZYD4FRSh",
        "colab_type": "code",
        "colab": {
          "base_uri": "https://localhost:8080/",
          "height": 51
        },
        "outputId": "9f0d91f4-3aa6-4b80-b65e-0f7593d584bb"
      },
      "source": [
        "# Change the path\n",
        "from os import chdir, listdir\n",
        "print(listdir())\n",
        "chdir('/content/gdrive/My Drive/Python')\n",
        "print(listdir())"
      ],
      "execution_count": 59,
      "outputs": [
        {
          "output_type": "stream",
          "text": [
            "['Programming for DS', 'soup.html', 'forum_analysis.ipynb']\n",
            "['Programming for DS', 'soup.html', 'forum_analysis.ipynb']\n"
          ],
          "name": "stdout"
        }
      ]
    },
    {
      "cell_type": "code",
      "metadata": {
        "id": "kCB3K3bFESr8",
        "colab_type": "code",
        "colab": {
          "base_uri": "https://localhost:8080/",
          "height": 204
        },
        "outputId": "9c5fa601-b5af-41f3-ef69-ed8304485a67"
      },
      "source": [
        "# Fetch the posts from the html code\n",
        "from bs4 import BeautifulSoup\n",
        "soup = BeautifulSoup(open(\"soup.html\", 'r', encoding='utf-8').read())\n",
        "items = soup.find_all(class_=\"bogus\")\n",
        "print('Num of posts:', len(items))\n",
        "\n",
        "for i in range(min(len(items), 10)):\n",
        "    t = items[i]\n",
        "    print(t.getText()[:50])"
      ],
      "execution_count": 61,
      "outputs": [
        {
          "output_type": "stream",
          "text": [
            "Num of posts: 57\n",
            "Siegel and Shuster, \"Superman\"Ezra Claverie (sec12\n",
            "Re: Siegel and Shuster, \"Superman\" Xinhao Liu (xl3\n",
            "On Superman's BackgroundYanyao Zhang (yz6197) (Sep\n",
            "Re: On Superman's Background Xinhao Liu (xl3136) (\n",
            "Re: On Superman's Background Yanyao Zhang (yz6197)\n",
            " New!Re: Siegel and Shuster, \"Superman\" Yu Zheng (\n",
            "This message has been deleted\n",
            "Re: Siegel and Shuster, \"Superman\" Yanyao Zhang (y\n",
            "Re: Siegel and Shuster, \"Superman\" Xinhao Liu (xl3\n",
            "Re: Siegel and Shuster, \"Superman\" Hammond Liu (hl\n"
          ],
          "name": "stdout"
        }
      ]
    },
    {
      "cell_type": "code",
      "metadata": {
        "id": "K7MeRNdTIn9L",
        "colab_type": "code",
        "colab": {
          "base_uri": "https://localhost:8080/",
          "height": 71
        },
        "outputId": "bda8b4ac-e3cc-4c25-8db9-d5eadbfd10e9"
      },
      "source": [
        "# Initialize variables\n",
        "count = 0\n",
        "basic_info = []\n",
        "content_info = []\n",
        "\n",
        "# Extract information\n",
        "for i in range(len(items)):\n",
        "    t = items[i]\n",
        "    try:\n",
        "        # time = t.find(class_='textPanelFooter md').getText()\n",
        "        time = t.div.div.span.getText().strip(' ()')\n",
        "        name = t.div.div.a.getText()\n",
        "        # print(name)\n",
        "        content = t.div.div.next_sibling.getText().replace('  ', ' ').strip()\n",
        "        # print(content[-20:])\n",
        "        word_count = len(content.split())\n",
        "\n",
        "        info = (name, time, word_count)\n",
        "        basic_info.append(info)\n",
        "        content_info.append(content)\n",
        "    except:\n",
        "        # Handle unexpected data\n",
        "        count += 1\n",
        "        continue\n",
        "    # break\n",
        "print('Num of invalid posts:', count, '(Usually deleted)')\n",
        "print(basic_info)"
      ],
      "execution_count": 62,
      "outputs": [
        {
          "output_type": "stream",
          "text": [
            "Num of invalid posts: 2 (Usually deleted)\n",
            "[('Ezra Claverie (sec12)', 'Sep 17, 2020 11:44 AM', 117), ('Xinhao Liu (xl3136)', 'Sep 17, 2020 12:12 PM', 241), ('Yanyao Zhang (yz6197)', 'Sep 17, 2020 2:48 PM', 108), ('Xinhao Liu (xl3136)', 'Sep 17, 2020 3:49 PM', 85), ('Yanyao Zhang (yz6197)', 'Sep 17, 2020 5:10 PM', 28), ('Yu Zheng (yz6208)', 'Sep 17, 2020 3:51 PM', 86), ('Yanyao Zhang (yz6197)', 'Sep 17, 2020 12:24 PM', 202), ('Xinhao Liu (xl3136)', 'Sep 17, 2020 3:46 PM', 173), ('Hammond Liu (hl3797)', 'Sep 17, 2020 2:34 PM', 246), ('Ezra Claverie (sec12)', 'Sep 17, 2020 3:41 PM', 90), ('Hammond Liu (hl3797)', 'Sep 17, 2020 3:51 PM', 4), ('Zhiyang Wang (zw2376)', 'Sep 17, 2020 3:42 PM', 147), ('Yu Zheng (yz6208)', 'Sep 17, 2020 3:43 PM', 146), ('Ezra Claverie (sec12)', 'Sep 17, 2020 4:10 PM', 94), ('Zhiyang Wang (zw2376)', 'Sep 17, 2020 4:11 PM', 83), ('Jack Lu shan (sl7766)', 'Sep 18, 2020 1:47 PM', 118), ('Chaoyi Wang (cw3322)', 'Sep 17, 2020 5:09 PM', 63), ('Hammond Liu (hl3797)', 'Sep 18, 2020 12:43 PM', 56), ('Chaoyi Wang (cw3322)', 'Sep 17, 2020 5:03 PM', 60), ('Emily Wright (elw396)', 'Sep 18, 2020 2:09 AM', 127), ('Hammond Liu (hl3797)', 'Sep 18, 2020 1:05 PM', 113), ('Jack Lu shan (sl7766)', 'Sep 18, 2020 2:19 PM', 219), ('Jack Lu shan (sl7766)', 'Sep 18, 2020 4:33 PM', 210), ('Yu Zheng (yz6208)', 'Sep 18, 2020 7:40 PM', 94), ('Ezra Claverie (sec12)', 'Sep 17, 2020 11:49 AM', 268), ('Xinhao Liu (xl3136)', 'Sep 17, 2020 12:13 PM', 275), ('Yanyao Zhang (yz6197)', 'Sep 17, 2020 12:25 PM', 83), ('Ezra Claverie (sec12)', 'Sep 17, 2020 3:29 PM', 18), ('Chaoyi Wang (cw3322)', 'Sep 17, 2020 1:26 PM', 186), ('Yu Zheng (yz6208)', 'Sep 17, 2020 2:40 PM', 107), ('Yanyao Zhang (yz6197)', 'Sep 17, 2020 2:55 PM', 111), ('Hammond Liu (hl3797)', 'Sep 17, 2020 3:34 PM', 149), ('Yanyao Zhang (yz6197)', 'Sep 17, 2020 5:15 PM', 53), ('Hammond Liu (hl3797)', 'Sep 18, 2020 1:11 PM', 27), ('Yu Zheng (yz6208)', 'Sep 18, 2020 9:36 AM', 151), ('Hammond Liu (hl3797)', 'Sep 18, 2020 1:23 PM', 71), ('Zhiyang Wang (zw2376)', 'Sep 17, 2020 3:43 PM', 126), ('Ezra Claverie (sec12)', 'Sep 17, 2020 3:51 PM', 82), ('Jack Lu shan (sl7766)', 'Sep 18, 2020 3:49 PM', 216), ('Emily Wright (elw396)', 'Sep 18, 2020 2:47 AM', 74), ('Jack Lu shan (sl7766)', 'Sep 18, 2020 3:23 PM', 170), ('Ezra Claverie (sec12)', 'Sep 17, 2020 11:53 AM', 35), ('Hammond Liu (hl3797)', 'Sep 17, 2020 12:17 PM', 114), ('Yanyao Zhang (yz6197)', 'Sep 17, 2020 3:06 PM', 73), ('Ezra Claverie (sec12)', 'Sep 17, 2020 3:22 PM', 66), ('Jack Lu shan (sl7766)', 'Sep 18, 2020 4:41 PM', 61), ('Yanyao Zhang (yz6197)', 'Sep 17, 2020 12:23 PM', 99), ('Chaoyi Wang (cw3322)', 'Sep 17, 2020 12:43 PM', 92), ('Yu Zheng (yz6208)', 'Sep 17, 2020 1:30 PM', 98), ('Ezra Claverie (sec12)', 'Sep 17, 2020 3:27 PM', 68), ('Jack Lu shan (sl7766)', 'Sep 17, 2020 1:33 PM', 124), ('Xinhao Liu (xl3136)', 'Sep 17, 2020 3:28 PM', 106), ('Ezra Claverie (sec12)', 'Sep 17, 2020 3:33 PM', 38), ('Zhiyang Wang (zw2376)', 'Sep 17, 2020 3:54 PM', 69), ('Emily Wright (elw396)', 'Sep 17, 2020 7:00 PM', 81)]\n"
          ],
          "name": "stdout"
        }
      ]
    },
    {
      "cell_type": "code",
      "metadata": {
        "id": "x-YX6gWvUlK-",
        "colab_type": "code",
        "colab": {}
      },
      "source": [
        "def print_result(info, res):\n",
        "    print(info)\n",
        "    for i in res:\n",
        "        print('%s %s posts %s words' % (i[0].ljust(28), str(i[1]).rjust(8), str(i[2]).rjust(12)))\n",
        "    print('\\n')"
      ],
      "execution_count": 64,
      "outputs": []
    },
    {
      "cell_type": "code",
      "metadata": {
        "id": "OuGG7DLwRXJp",
        "colab_type": "code",
        "colab": {
          "base_uri": "https://localhost:8080/",
          "height": 425
        },
        "outputId": "708c43da-8127-49a8-e50d-25bce6c899ee"
      },
      "source": [
        "rank_posts = {}\n",
        "rank_words = {}\n",
        "# rank_time = {}\n",
        "for i in basic_info:\n",
        "    rank_posts[i[0]] = rank_posts.get(i[0], 0) + 1\n",
        "    rank_words[i[0]] = rank_words.get(i[0], 0) + i[2]\n",
        "    # rank_time[i[0]] = rank_time.get(i[0], []) + [i[1]]\n",
        "\n",
        "rank_result = []\n",
        "for i in rank_posts:\n",
        "    rank_result.append((i, rank_posts[i], rank_words[i]))\n",
        "\n",
        "rank_result.sort(key=lambda x:x[1], reverse=True)\n",
        "print_result('Index: num of posts', rank_result)\n",
        "\n",
        "rank_result.sort(key=lambda x:x[2], reverse=True)\n",
        "print_result('Index: word count', rank_result)"
      ],
      "execution_count": 65,
      "outputs": [
        {
          "output_type": "stream",
          "text": [
            "Index: num of posts\n",
            "Ezra Claverie (sec12)              10 posts          876 words\n",
            "Yanyao Zhang (yz6197)               8 posts          757 words\n",
            "Hammond Liu (hl3797)                8 posts          780 words\n",
            "Jack Lu shan (sl7766)               7 posts         1118 words\n",
            "Yu Zheng (yz6208)                   6 posts          682 words\n",
            "Xinhao Liu (xl3136)                 5 posts          880 words\n",
            "Zhiyang Wang (zw2376)               4 posts          425 words\n",
            "Chaoyi Wang (cw3322)                4 posts          401 words\n",
            "Emily Wright (elw396)               3 posts          282 words\n",
            "\n",
            "\n",
            "Index: word count\n",
            "Jack Lu shan (sl7766)               7 posts         1118 words\n",
            "Xinhao Liu (xl3136)                 5 posts          880 words\n",
            "Ezra Claverie (sec12)              10 posts          876 words\n",
            "Hammond Liu (hl3797)                8 posts          780 words\n",
            "Yanyao Zhang (yz6197)               8 posts          757 words\n",
            "Yu Zheng (yz6208)                   6 posts          682 words\n",
            "Zhiyang Wang (zw2376)               4 posts          425 words\n",
            "Chaoyi Wang (cw3322)                4 posts          401 words\n",
            "Emily Wright (elw396)               3 posts          282 words\n",
            "\n",
            "\n"
          ],
          "name": "stdout"
        }
      ]
    },
    {
      "cell_type": "code",
      "metadata": {
        "id": "HrhPxtPiWVtP",
        "colab_type": "code",
        "colab": {
          "base_uri": "https://localhost:8080/",
          "height": 429
        },
        "outputId": "c393ef6b-b3d0-4f87-e0a2-35e1b6b12897"
      },
      "source": [
        "# Visualize the data\n",
        "import matplotlib.pyplot as plt\n",
        "plt.figure(figsize=(10, 6), dpi=80)\n",
        "plt.title('PoH: forum 1 word count rank')\n",
        "plt.bar([i[0][i[0].find('(')+1:i[0].find(')')] for i in rank_result], [i[2] for i in rank_result])\n",
        "plt.show()"
      ],
      "execution_count": 66,
      "outputs": [
        {
          "output_type": "display_data",
          "data": {
            "image/png": "[encoded data removed]",
            "text/plain": [
              "<Figure size 800x480 with 1 Axes>"
            ]
          },
          "metadata": {
            "tags": [],
            "needs_background": "light"
          }
        }
      ]
    }
  ]
}